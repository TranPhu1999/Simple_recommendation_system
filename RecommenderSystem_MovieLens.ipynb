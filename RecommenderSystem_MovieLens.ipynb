{
  "cells": [
    {
      "cell_type": "markdown",
      "source": [
        "# MovieLens dataset"
      ],
      "metadata": {
        "id": "rckj_rC-mKqX"
      }
    },
    {
      "cell_type": "code",
      "execution_count": null,
      "metadata": {
        "colab": {
          "base_uri": "https://localhost:8080/"
        },
        "id": "8n5h-PyTh4Lx",
        "outputId": "854a3b44-2492-491c-a989-9c27230faf8c"
      },
      "outputs": [
        {
          "output_type": "stream",
          "name": "stdout",
          "text": [
            "--2022-04-13 07:58:19--  https://files.grouplens.org/datasets/movielens/ml-1m.zip\n",
            "Resolving files.grouplens.org (files.grouplens.org)... 128.101.65.152\n",
            "Connecting to files.grouplens.org (files.grouplens.org)|128.101.65.152|:443... connected.\n",
            "HTTP request sent, awaiting response... 200 OK\n",
            "Length: 5917549 (5.6M) [application/zip]\n",
            "Saving to: ‘ml-1m.zip’\n",
            "\n",
            "ml-1m.zip           100%[===================>]   5.64M  10.7MB/s    in 0.5s    \n",
            "\n",
            "2022-04-13 07:58:20 (10.7 MB/s) - ‘ml-1m.zip’ saved [5917549/5917549]\n",
            "\n",
            "Archive:  /content/ml-1m.zip\n",
            "   creating: ml-1m/\n",
            "  inflating: ml-1m/movies.dat        \n",
            "  inflating: ml-1m/ratings.dat       \n",
            "  inflating: ml-1m/README            \n",
            "  inflating: ml-1m/users.dat         \n"
          ]
        }
      ],
      "source": [
        "!wget https://files.grouplens.org/datasets/movielens/ml-1m.zip\n",
        "!unzip /content/ml-1m.zip"
      ]
    },
    {
      "cell_type": "markdown",
      "source": [
        "## Dependencies and config "
      ],
      "metadata": {
        "id": "uv7qDJNgmjk4"
      }
    },
    {
      "cell_type": "code",
      "execution_count": null,
      "metadata": {
        "colab": {
          "base_uri": "https://localhost:8080/"
        },
        "id": "VxKcK54HOTMC",
        "outputId": "5aab29c1-983f-4b5b-cb6a-13150aa1a533"
      },
      "outputs": [
        {
          "output_type": "stream",
          "name": "stdout",
          "text": [
            "\r0% [Working]\r            \rGet:1 https://cloud.r-project.org/bin/linux/ubuntu bionic-cran40/ InRelease [3,626 B]\n",
            "\r0% [Connecting to archive.ubuntu.com] [Connecting to security.ubuntu.com] [1 In\r0% [Connecting to archive.ubuntu.com] [Connecting to security.ubuntu.com] [Conn\r                                                                               \rIgn:2 https://developer.download.nvidia.com/compute/cuda/repos/ubuntu1804/x86_64  InRelease\n",
            "\r0% [Connecting to archive.ubuntu.com] [Connecting to security.ubuntu.com] [Conn\r0% [1 InRelease gpgv 3,626 B] [Connecting to archive.ubuntu.com] [Connecting to\r                                                                               \rIgn:3 https://developer.download.nvidia.com/compute/machine-learning/repos/ubuntu1804/x86_64  InRelease\n",
            "\r0% [1 InRelease gpgv 3,626 B] [Connecting to archive.ubuntu.com (185.125.190.36\r                                                                               \rGet:4 https://developer.download.nvidia.com/compute/cuda/repos/ubuntu1804/x86_64  Release [696 B]\n",
            "\r0% [1 InRelease gpgv 3,626 B] [Connecting to archive.ubuntu.com (185.125.190.36\r                                                                               \rHit:5 https://developer.download.nvidia.com/compute/machine-learning/repos/ubuntu1804/x86_64  Release\n",
            "Get:6 https://developer.download.nvidia.com/compute/cuda/repos/ubuntu1804/x86_64  Release.gpg [836 B]\n",
            "Get:7 http://ppa.launchpad.net/c2d4u.team/c2d4u4.0+/ubuntu bionic InRelease [15.9 kB]\n",
            "Hit:8 http://archive.ubuntu.com/ubuntu bionic InRelease\n",
            "Get:10 http://security.ubuntu.com/ubuntu bionic-security InRelease [88.7 kB]\n",
            "Get:11 http://archive.ubuntu.com/ubuntu bionic-updates InRelease [88.7 kB]\n",
            "Get:12 https://developer.download.nvidia.com/compute/cuda/repos/ubuntu1804/x86_64  Packages [953 kB]\n",
            "Hit:13 http://ppa.launchpad.net/cran/libgit2/ubuntu bionic InRelease\n",
            "Get:14 http://archive.ubuntu.com/ubuntu bionic-backports InRelease [74.6 kB]\n",
            "Get:15 http://ppa.launchpad.net/deadsnakes/ppa/ubuntu bionic InRelease [15.9 kB]\n",
            "Get:16 http://security.ubuntu.com/ubuntu bionic-security/universe amd64 Packages [1,490 kB]\n",
            "Get:17 http://archive.ubuntu.com/ubuntu bionic-updates/universe amd64 Packages [2,268 kB]\n",
            "Hit:18 http://ppa.launchpad.net/graphics-drivers/ppa/ubuntu bionic InRelease\n",
            "Get:19 http://ppa.launchpad.net/c2d4u.team/c2d4u4.0+/ubuntu bionic/main Sources [1,947 kB]\n",
            "Get:20 http://security.ubuntu.com/ubuntu bionic-security/main amd64 Packages [2,694 kB]\n",
            "Get:21 http://archive.ubuntu.com/ubuntu bionic-updates/main amd64 Packages [3,133 kB]\n",
            "Get:22 http://ppa.launchpad.net/c2d4u.team/c2d4u4.0+/ubuntu bionic/main amd64 Packages [996 kB]\n",
            "Get:23 http://ppa.launchpad.net/deadsnakes/ppa/ubuntu bionic/main amd64 Packages [45.3 kB]\n",
            "Fetched 13.8 MB in 5s (2,932 kB/s)\n",
            "Reading package lists... Done\n"
          ]
        }
      ],
      "source": [
        "!sudo apt-get update\n",
        "!apt-get install openjdk-8-jdk-headless -qq > /dev/null\n",
        "!wget -q https://archive.apache.org/dist/spark/spark-3.2.1/spark-3.2.1-bin-hadoop3.2.tgz\n",
        "!tar xf spark-3.2.1-bin-hadoop3.2.tgz "
      ]
    },
    {
      "cell_type": "code",
      "execution_count": null,
      "metadata": {
        "colab": {
          "base_uri": "https://localhost:8080/"
        },
        "id": "wDwGyoMeBOO7",
        "outputId": "9ac345f6-43ff-4e45-c8ca-40761e7d742d"
      },
      "outputs": [
        {
          "output_type": "stream",
          "name": "stdout",
          "text": [
            "Collecting recommenders\n",
            "  Downloading recommenders-1.1.0-py3-none-manylinux1_x86_64.whl (335 kB)\n",
            "\u001b[K     |████████████████████████████████| 335 kB 7.9 MB/s \n",
            "\u001b[?25hCollecting scikit-surprise>=1.0.6\n",
            "  Downloading scikit-surprise-1.1.1.tar.gz (11.8 MB)\n",
            "\u001b[K     |████████████████████████████████| 11.8 MB 26.1 MB/s \n",
            "\u001b[?25hRequirement already satisfied: lightgbm>=2.2.1 in /usr/local/lib/python3.7/dist-packages (from recommenders) (2.2.3)\n",
            "Requirement already satisfied: requests<3,>=2.0.0 in /usr/local/lib/python3.7/dist-packages (from recommenders) (2.23.0)\n",
            "Collecting transformers<5,>=2.5.0\n",
            "  Downloading transformers-4.18.0-py3-none-any.whl (4.0 MB)\n",
            "\u001b[K     |████████████████████████████████| 4.0 MB 33.8 MB/s \n",
            "\u001b[?25hCollecting retrying>=1.3.3\n",
            "  Downloading retrying-1.3.3.tar.gz (10 kB)\n",
            "Collecting nltk<4,>=3.4\n",
            "  Downloading nltk-3.7-py3-none-any.whl (1.5 MB)\n",
            "\u001b[K     |████████████████████████████████| 1.5 MB 46.0 MB/s \n",
            "\u001b[?25hRequirement already satisfied: jinja2<3.1,>=2 in /usr/local/lib/python3.7/dist-packages (from recommenders) (2.11.3)\n",
            "Requirement already satisfied: matplotlib<4,>=2.2.2 in /usr/local/lib/python3.7/dist-packages (from recommenders) (3.2.2)\n",
            "Requirement already satisfied: numpy>=1.19 in /usr/local/lib/python3.7/dist-packages (from recommenders) (1.21.5)\n",
            "Requirement already satisfied: scikit-learn<1.0.3,>=0.22.1 in /usr/local/lib/python3.7/dist-packages (from recommenders) (1.0.2)\n",
            "Collecting cornac<2,>=1.1.2\n",
            "  Downloading cornac-1.14.2-cp37-cp37m-manylinux1_x86_64.whl (12.4 MB)\n",
            "\u001b[K     |████████████████████████████████| 12.4 MB 37.1 MB/s \n",
            "\u001b[?25hRequirement already satisfied: bottleneck<2,>=1.2.1 in /usr/local/lib/python3.7/dist-packages (from recommenders) (1.3.4)\n",
            "Collecting pandera[strategies]>=0.6.5\n",
            "  Downloading pandera-0.9.0-py3-none-any.whl (197 kB)\n",
            "\u001b[K     |████████████████████████████████| 197 kB 69.0 MB/s \n",
            "\u001b[?25hRequirement already satisfied: scipy<2,>=1.0.0 in /usr/local/lib/python3.7/dist-packages (from recommenders) (1.4.1)\n",
            "Collecting memory-profiler<1,>=0.54.0\n",
            "  Downloading memory_profiler-0.60.0.tar.gz (38 kB)\n",
            "Collecting category-encoders<2,>=1.3.0\n",
            "  Downloading category_encoders-1.3.0-py2.py3-none-any.whl (61 kB)\n",
            "\u001b[K     |████████████████████████████████| 61 kB 8.6 MB/s \n",
            "\u001b[?25hRequirement already satisfied: pandas<2,>1.0.3 in /usr/local/lib/python3.7/dist-packages (from recommenders) (1.3.5)\n",
            "Requirement already satisfied: tqdm<5,>=4.31.1 in /usr/local/lib/python3.7/dist-packages (from recommenders) (4.63.0)\n",
            "Collecting lightfm<2,>=1.15\n",
            "  Downloading lightfm-1.16.tar.gz (310 kB)\n",
            "\u001b[K     |████████████████████████████████| 310 kB 59.8 MB/s \n",
            "\u001b[?25hCollecting pyyaml<6,>=5.4.1\n",
            "  Downloading PyYAML-5.4.1-cp37-cp37m-manylinux1_x86_64.whl (636 kB)\n",
            "\u001b[K     |████████████████████████████████| 636 kB 50.2 MB/s \n",
            "\u001b[?25hRequirement already satisfied: seaborn<1,>=0.8.1 in /usr/local/lib/python3.7/dist-packages (from recommenders) (0.11.2)\n",
            "Requirement already satisfied: numba<1,>=0.38.1 in /usr/local/lib/python3.7/dist-packages (from recommenders) (0.51.2)\n",
            "Requirement already satisfied: patsy>=0.4.1 in /usr/local/lib/python3.7/dist-packages (from category-encoders<2,>=1.3.0->recommenders) (0.5.2)\n",
            "Requirement already satisfied: statsmodels>=0.6.1 in /usr/local/lib/python3.7/dist-packages (from category-encoders<2,>=1.3.0->recommenders) (0.10.2)\n",
            "Collecting powerlaw\n",
            "  Downloading powerlaw-1.5-py3-none-any.whl (24 kB)\n",
            "Requirement already satisfied: MarkupSafe>=0.23 in /usr/local/lib/python3.7/dist-packages (from jinja2<3.1,>=2->recommenders) (2.0.1)\n",
            "Requirement already satisfied: kiwisolver>=1.0.1 in /usr/local/lib/python3.7/dist-packages (from matplotlib<4,>=2.2.2->recommenders) (1.4.0)\n",
            "Requirement already satisfied: python-dateutil>=2.1 in /usr/local/lib/python3.7/dist-packages (from matplotlib<4,>=2.2.2->recommenders) (2.8.2)\n",
            "Requirement already satisfied: pyparsing!=2.0.4,!=2.1.2,!=2.1.6,>=2.0.1 in /usr/local/lib/python3.7/dist-packages (from matplotlib<4,>=2.2.2->recommenders) (3.0.7)\n",
            "Requirement already satisfied: cycler>=0.10 in /usr/local/lib/python3.7/dist-packages (from matplotlib<4,>=2.2.2->recommenders) (0.11.0)\n",
            "Requirement already satisfied: typing-extensions in /usr/local/lib/python3.7/dist-packages (from kiwisolver>=1.0.1->matplotlib<4,>=2.2.2->recommenders) (3.10.0.2)\n",
            "Requirement already satisfied: psutil in /usr/local/lib/python3.7/dist-packages (from memory-profiler<1,>=0.54.0->recommenders) (5.4.8)\n",
            "Requirement already satisfied: click in /usr/local/lib/python3.7/dist-packages (from nltk<4,>=3.4->recommenders) (7.1.2)\n",
            "Collecting regex>=2021.8.3\n",
            "  Downloading regex-2022.3.15-cp37-cp37m-manylinux_2_17_x86_64.manylinux2014_x86_64.whl (749 kB)\n",
            "\u001b[K     |████████████████████████████████| 749 kB 50.7 MB/s \n",
            "\u001b[?25hRequirement already satisfied: joblib in /usr/local/lib/python3.7/dist-packages (from nltk<4,>=3.4->recommenders) (1.1.0)\n",
            "Requirement already satisfied: llvmlite<0.35,>=0.34.0.dev0 in /usr/local/lib/python3.7/dist-packages (from numba<1,>=0.38.1->recommenders) (0.34.0)\n",
            "Requirement already satisfied: setuptools in /usr/local/lib/python3.7/dist-packages (from numba<1,>=0.38.1->recommenders) (57.4.0)\n",
            "Requirement already satisfied: pytz>=2017.3 in /usr/local/lib/python3.7/dist-packages (from pandas<2,>1.0.3->recommenders) (2018.9)\n",
            "Requirement already satisfied: pyarrow in /usr/local/lib/python3.7/dist-packages (from pandera[strategies]>=0.6.5->recommenders) (6.0.1)\n",
            "Requirement already satisfied: packaging>=20.0 in /usr/local/lib/python3.7/dist-packages (from pandera[strategies]>=0.6.5->recommenders) (21.3)\n",
            "Collecting typing-inspect>=0.6.0\n",
            "  Downloading typing_inspect-0.7.1-py3-none-any.whl (8.4 kB)\n",
            "Requirement already satisfied: wrapt in /usr/local/lib/python3.7/dist-packages (from pandera[strategies]>=0.6.5->recommenders) (1.14.0)\n",
            "Collecting pydantic\n",
            "  Downloading pydantic-1.9.0-cp37-cp37m-manylinux_2_17_x86_64.manylinux2014_x86_64.whl (10.9 MB)\n",
            "\u001b[K     |████████████████████████████████| 10.9 MB 46.9 MB/s \n",
            "\u001b[?25hCollecting hypothesis>=5.41.1\n",
            "  Downloading hypothesis-6.43.0-py3-none-any.whl (381 kB)\n",
            "\u001b[K     |████████████████████████████████| 381 kB 49.3 MB/s \n",
            "\u001b[?25hRequirement already satisfied: sortedcontainers<3.0.0,>=2.1.0 in /usr/local/lib/python3.7/dist-packages (from hypothesis>=5.41.1->pandera[strategies]>=0.6.5->recommenders) (2.4.0)\n",
            "Requirement already satisfied: attrs>=19.2.0 in /usr/local/lib/python3.7/dist-packages (from hypothesis>=5.41.1->pandera[strategies]>=0.6.5->recommenders) (21.4.0)\n",
            "Requirement already satisfied: six in /usr/local/lib/python3.7/dist-packages (from patsy>=0.4.1->category-encoders<2,>=1.3.0->recommenders) (1.15.0)\n",
            "Requirement already satisfied: idna<3,>=2.5 in /usr/local/lib/python3.7/dist-packages (from requests<3,>=2.0.0->recommenders) (2.10)\n",
            "Requirement already satisfied: chardet<4,>=3.0.2 in /usr/local/lib/python3.7/dist-packages (from requests<3,>=2.0.0->recommenders) (3.0.4)\n",
            "Requirement already satisfied: certifi>=2017.4.17 in /usr/local/lib/python3.7/dist-packages (from requests<3,>=2.0.0->recommenders) (2021.10.8)\n",
            "Requirement already satisfied: urllib3!=1.25.0,!=1.25.1,<1.26,>=1.21.1 in /usr/local/lib/python3.7/dist-packages (from requests<3,>=2.0.0->recommenders) (1.24.3)\n",
            "Requirement already satisfied: threadpoolctl>=2.0.0 in /usr/local/lib/python3.7/dist-packages (from scikit-learn<1.0.3,>=0.22.1->recommenders) (3.1.0)\n",
            "Collecting tokenizers!=0.11.3,<0.13,>=0.11.1\n",
            "  Downloading tokenizers-0.11.6-cp37-cp37m-manylinux_2_12_x86_64.manylinux2010_x86_64.whl (6.5 MB)\n",
            "\u001b[K     |████████████████████████████████| 6.5 MB 43.4 MB/s \n",
            "\u001b[?25hRequirement already satisfied: importlib-metadata in /usr/local/lib/python3.7/dist-packages (from transformers<5,>=2.5.0->recommenders) (4.11.3)\n",
            "Collecting sacremoses\n",
            "  Downloading sacremoses-0.0.49-py3-none-any.whl (895 kB)\n",
            "\u001b[K     |████████████████████████████████| 895 kB 36.2 MB/s \n",
            "\u001b[?25hCollecting huggingface-hub<1.0,>=0.1.0\n",
            "  Downloading huggingface_hub-0.5.1-py3-none-any.whl (77 kB)\n",
            "\u001b[K     |████████████████████████████████| 77 kB 6.7 MB/s \n",
            "\u001b[?25hRequirement already satisfied: filelock in /usr/local/lib/python3.7/dist-packages (from transformers<5,>=2.5.0->recommenders) (3.6.0)\n",
            "Collecting mypy-extensions>=0.3.0\n",
            "  Downloading mypy_extensions-0.4.3-py2.py3-none-any.whl (4.5 kB)\n",
            "Requirement already satisfied: zipp>=0.5 in /usr/local/lib/python3.7/dist-packages (from importlib-metadata->transformers<5,>=2.5.0->recommenders) (3.7.0)\n",
            "Requirement already satisfied: mpmath in /usr/local/lib/python3.7/dist-packages (from powerlaw->cornac<2,>=1.1.2->recommenders) (1.2.1)\n",
            "Building wheels for collected packages: lightfm, memory-profiler, retrying, scikit-surprise\n",
            "  Building wheel for lightfm (setup.py) ... \u001b[?25l\u001b[?25hdone\n",
            "  Created wheel for lightfm: filename=lightfm-1.16-cp37-cp37m-linux_x86_64.whl size=705346 sha256=ec394a697fd64cecd6377a21e60167f3d7d673a94e1f9b2a860cbcfa6b5436ad\n",
            "  Stored in directory: /root/.cache/pip/wheels/f8/56/28/5772a3bd3413d65f03aa452190b00898b680b10028a1021914\n",
            "  Building wheel for memory-profiler (setup.py) ... \u001b[?25l\u001b[?25hdone\n",
            "  Created wheel for memory-profiler: filename=memory_profiler-0.60.0-py3-none-any.whl size=31284 sha256=25faa1936e43672f202aeab347c7e0b8f2bb0e881102da7fbe9ae02c3761baae\n",
            "  Stored in directory: /root/.cache/pip/wheels/67/2b/fb/326e30d638c538e69a5eb0aa47f4223d979f502bbdb403950f\n",
            "  Building wheel for retrying (setup.py) ... \u001b[?25l\u001b[?25hdone\n",
            "  Created wheel for retrying: filename=retrying-1.3.3-py3-none-any.whl size=11447 sha256=2c0777b3a6bb54242990d70ad61dd938aab068f80e319fb97fac0ecd737ba7b3\n",
            "  Stored in directory: /root/.cache/pip/wheels/f9/8d/8d/f6af3f7f9eea3553bc2fe6d53e4b287dad18b06a861ac56ddf\n",
            "  Building wheel for scikit-surprise (setup.py) ... \u001b[?25l\u001b[?25hdone\n",
            "  Created wheel for scikit-surprise: filename=scikit_surprise-1.1.1-cp37-cp37m-linux_x86_64.whl size=1630148 sha256=60a2a99799fe6a6f68f8c518866071a759c81b16c902d0ff60c6d85eb2239421\n",
            "  Stored in directory: /root/.cache/pip/wheels/76/44/74/b498c42be47b2406bd27994e16c5188e337c657025ab400c1c\n",
            "Successfully built lightfm memory-profiler retrying scikit-surprise\n",
            "Installing collected packages: mypy-extensions, typing-inspect, regex, pyyaml, pydantic, tokenizers, sacremoses, powerlaw, pandera, hypothesis, huggingface-hub, transformers, scikit-surprise, retrying, nltk, memory-profiler, lightfm, cornac, category-encoders, recommenders\n",
            "  Attempting uninstall: regex\n",
            "    Found existing installation: regex 2019.12.20\n",
            "    Uninstalling regex-2019.12.20:\n",
            "      Successfully uninstalled regex-2019.12.20\n",
            "  Attempting uninstall: pyyaml\n",
            "    Found existing installation: PyYAML 3.13\n",
            "    Uninstalling PyYAML-3.13:\n",
            "      Successfully uninstalled PyYAML-3.13\n",
            "  Attempting uninstall: nltk\n",
            "    Found existing installation: nltk 3.2.5\n",
            "    Uninstalling nltk-3.2.5:\n",
            "      Successfully uninstalled nltk-3.2.5\n",
            "Successfully installed category-encoders-1.3.0 cornac-1.14.2 huggingface-hub-0.5.1 hypothesis-6.43.0 lightfm-1.16 memory-profiler-0.60.0 mypy-extensions-0.4.3 nltk-3.7 pandera-0.9.0 powerlaw-1.5 pydantic-1.9.0 pyyaml-5.4.1 recommenders-1.1.0 regex-2022.3.15 retrying-1.3.3 sacremoses-0.0.49 scikit-surprise-1.1.1 tokenizers-0.11.6 transformers-4.18.0 typing-inspect-0.7.1\n",
            "Collecting surprise\n",
            "  Downloading surprise-0.1-py2.py3-none-any.whl (1.8 kB)\n",
            "Requirement already satisfied: scikit-surprise in /usr/local/lib/python3.7/dist-packages (from surprise) (1.1.1)\n",
            "Requirement already satisfied: scipy>=1.0.0 in /usr/local/lib/python3.7/dist-packages (from scikit-surprise->surprise) (1.4.1)\n",
            "Requirement already satisfied: six>=1.10.0 in /usr/local/lib/python3.7/dist-packages (from scikit-surprise->surprise) (1.15.0)\n",
            "Requirement already satisfied: joblib>=0.11 in /usr/local/lib/python3.7/dist-packages (from scikit-surprise->surprise) (1.1.0)\n",
            "Requirement already satisfied: numpy>=1.11.2 in /usr/local/lib/python3.7/dist-packages (from scikit-surprise->surprise) (1.21.5)\n",
            "Installing collected packages: surprise\n",
            "Successfully installed surprise-0.1\n"
          ]
        }
      ],
      "source": [
        "!pip install -q findspark\n",
        "!pip install recommenders\n",
        "!pip install surprise"
      ]
    },
    {
      "cell_type": "code",
      "execution_count": null,
      "metadata": {
        "id": "s0aVx8SpO9Cw"
      },
      "outputs": [],
      "source": [
        "import os\n",
        "import numpy as np\n",
        "os.environ[\"JAVA_HOME\"] = \"/usr/lib/jvm/java-8-openjdk-amd64\"\n",
        "os.environ[\"SPARK_HOME\"] = \"/content/spark-3.2.1-bin-hadoop3.2\""
      ]
    },
    {
      "cell_type": "code",
      "execution_count": null,
      "metadata": {
        "id": "8gyiWE47O9FO"
      },
      "outputs": [],
      "source": [
        "import findspark\n",
        "findspark.init()\n",
        "from pyspark.sql import SparkSession\n",
        "#Use as many threads as your spark local machine have\n",
        "#spark = SparkSession.builder.master(\"local[*]\").getOrCreate()\n",
        "spark = SparkSession.builder.master(\"local[4]\")\\\n",
        "          .appName(\"StructureAPI\")\\\n",
        "          .config('spark.driver.memory','15g')\\\n",
        "          .config('spark.submit.deployMode','client')\\\n",
        "          .config('spark.executor.memory','2g')\\\n",
        "          .config('spark.executor.cores',4)\\\n",
        "          .config('spark.yarn.queue','short')\\\n",
        "          .getOrCreate() "
      ]
    },
    {
      "cell_type": "code",
      "execution_count": null,
      "metadata": {
        "id": "VqF9F2ceUnem",
        "colab": {
          "base_uri": "https://localhost:8080/"
        },
        "outputId": "074acd6a-765b-460d-8b06-0646df82c566"
      },
      "outputs": [
        {
          "output_type": "stream",
          "name": "stdout",
          "text": [
            "ml-1m\t   sample_data\t\t      spark-3.2.1-bin-hadoop3.2.tgz\n",
            "ml-1m.zip  spark-3.2.1-bin-hadoop3.2\n"
          ]
        }
      ],
      "source": [
        "!ls"
      ]
    },
    {
      "cell_type": "markdown",
      "metadata": {
        "id": "FNs2HYGRJFOl"
      },
      "source": [
        "## Apply ALS model and compute RSME for the predictions"
      ]
    },
    {
      "cell_type": "code",
      "execution_count": null,
      "metadata": {
        "id": "dmcw2yPe0EzX"
      },
      "outputs": [],
      "source": [
        "from pyspark.ml.evaluation import RegressionEvaluator\n",
        "from pyspark.ml.recommendation import ALS\n",
        "from pyspark.sql import Row\n",
        "from pyspark.sql.types import StructType, StructField\n",
        "from recommenders.datasets.spark_splitters import spark_random_split"
      ]
    },
    {
      "cell_type": "code",
      "execution_count": null,
      "metadata": {
        "id": "xYO__q2cOXxk",
        "colab": {
          "base_uri": "https://localhost:8080/"
        },
        "outputId": "ef1304fb-c237-4563-b106-ed9838482dc5"
      },
      "outputs": [
        {
          "output_type": "stream",
          "name": "stdout",
          "text": [
            "Root-mean-square error = 0.8913636647004352\n"
          ]
        },
        {
          "output_type": "stream",
          "name": "stderr",
          "text": [
            "/content/spark-3.2.1-bin-hadoop3.2/python/pyspark/sql/context.py:127: FutureWarning: Deprecated in 3.0.0. Use SparkSession.builder.getOrCreate() instead.\n",
            "  FutureWarning\n"
          ]
        },
        {
          "output_type": "stream",
          "name": "stdout",
          "text": [
            "+------+-----------------------------------------------------------------------------------------------------------------------------------------------------------------------------------------+\n",
            "|userId|recommendations                                                                                                                                                                          |\n",
            "+------+-----------------------------------------------------------------------------------------------------------------------------------------------------------------------------------------+\n",
            "|1     |[{2426, 9.214789}, {1421, 8.092667}, {2834, 7.309105}, {2992, 6.9514837}, {1496, 6.684358}, {960, 6.658357}, {2674, 6.5592623}, {2055, 6.5560703}, {250, 6.510674}, {1695, 6.48783}]     |\n",
            "|12    |[{1349, 9.841156}, {1471, 9.528682}, {3117, 9.182364}, {392, 9.087875}, {2579, 8.336916}, {3776, 8.303175}, {702, 8.27852}, {1420, 8.218352}, {3540, 8.212985}, {3636, 8.052603}]        |\n",
            "|22    |[{2305, 5.8702965}, {3012, 5.7900915}, {2964, 5.5271096}, {962, 5.4986653}, {659, 5.4761186}, {2839, 5.383971}, {2992, 5.368469}, {1360, 5.3521795}, {3659, 5.3065033}, {1421, 5.242279}]|\n",
            "|26    |[{1846, 7.2153406}, {297, 7.0610776}, {649, 6.9851246}, {2930, 6.672612}, {2063, 6.6533275}, {3047, 6.553706}, {2809, 6.2884226}, {3106, 6.011829}, {3124, 5.938565}, {1585, 5.828949}]  |\n",
            "|27    |[{3636, 7.761349}, {682, 7.603519}, {2679, 7.269637}, {702, 7.189372}, {214, 6.8626356}, {793, 6.842247}, {2494, 6.8305783}, {3570, 6.6784124}, {2304, 6.4531727}, {526, 6.312636}]      |\n",
            "|28    |[{2964, 6.3042145}, {2897, 6.2942452}, {2962, 6.174264}, {1493, 6.1128364}, {2512, 6.04927}, {2503, 6.0433474}, {2775, 5.917933}, {864, 5.8382897}, {3569, 5.769387}, {341, 5.658438}]   |\n",
            "|31    |[{751, 8.852309}, {2512, 8.284563}, {958, 8.13976}, {970, 7.7297935}, {2157, 7.080719}, {1930, 6.9540486}, {1651, 6.8632593}, {3520, 6.8044963}, {2219, 6.796643}, {3830, 6.789522}]     |\n",
            "|34    |[{572, 6.7622156}, {526, 6.5173683}, {3241, 6.2314854}, {2175, 6.1034365}, {3282, 6.0655518}, {324, 6.0164943}, {759, 5.8272543}, {2056, 5.8227034}, {3188, 5.814037}, {570, 5.78401}]   |\n",
            "|44    |[{1898, 6.661991}, {718, 6.6219454}, {37, 6.604042}, {2219, 6.458105}, {2964, 6.368457}, {970, 6.354363}, {2494, 6.335814}, {864, 6.1145706}, {1412, 5.9811764}, {2056, 5.9514227}]      |\n",
            "|47    |[{823, 9.081953}, {682, 8.799332}, {3816, 7.3737125}, {1423, 7.3394613}, {3866, 7.3290086}, {1743, 7.3126116}, {2931, 7.286121}, {716, 7.085897}, {3306, 7.0260906}, {718, 7.0018716}]   |\n",
            "|52    |[{3587, 6.47631}, {572, 6.379806}, {769, 6.1228175}, {2175, 6.0922337}, {811, 5.9331603}, {406, 5.78998}, {3047, 5.527697}, {3474, 5.517356}, {2830, 5.405407}, {240, 5.3910184}]        |\n",
            "|53    |[{2964, 6.993401}, {2930, 6.522133}, {557, 6.4307413}, {1360, 6.1996884}, {572, 6.1089325}, {1117, 6.0697427}, {2305, 6.0339184}, {3338, 6.0117807}, {2503, 5.979767}, {659, 5.9627}]    |\n",
            "|65    |[{2834, 7.7263036}, {2930, 7.3997645}, {2129, 7.1551886}, {2626, 6.725968}, {572, 6.688587}, {2765, 6.65755}, {3047, 6.5970125}, {2426, 6.413446}, {993, 6.264598}, {2332, 6.206397}]    |\n",
            "|76    |[{572, 6.300308}, {2930, 6.141049}, {3047, 6.0224133}, {649, 5.9056196}, {793, 5.5952415}, {2175, 5.399925}, {2309, 5.367627}, {2086, 5.3461714}, {3680, 5.2999754}, {108, 5.28117}]     |\n",
            "|78    |[{3913, 6.4512744}, {793, 6.294483}, {1180, 5.8381724}, {3117, 5.7696567}, {3892, 5.7439575}, {2215, 5.740542}, {2632, 5.7209816}, {670, 5.670291}, {503, 5.54369}, {2512, 5.464709}]    |\n",
            "|81    |[{2679, 7.837965}, {2304, 7.6281347}, {3636, 6.9129763}, {3749, 6.8234453}, {702, 6.721195}, {1420, 6.6988773}, {3349, 6.6713443}, {2981, 6.4209614}, {214, 6.418041}, {793, 6.384738}]  |\n",
            "|85    |[{2426, 8.066032}, {3843, 6.5077386}, {240, 6.4661207}, {2101, 6.097908}, {2785, 6.049503}, {3903, 5.862543}, {1421, 5.769143}, {1715, 5.5793047}, {572, 5.576639}, {3587, 5.5726404}]   |\n",
            "|91    |[{2930, 8.404701}, {2512, 8.01496}, {958, 7.626253}, {751, 7.4240627}, {2086, 7.3838763}, {3913, 7.308098}, {1651, 7.2855673}, {411, 7.274545}, {970, 7.0796146}, {1349, 6.9734483}]     |\n",
            "|93    |[{751, 7.0390534}, {2494, 6.2079926}, {659, 6.0645275}, {2964, 5.937219}, {645, 5.876621}, {1412, 5.7596855}, {2962, 5.7509093}, {3531, 5.651539}, {2481, 5.5531807}, {682, 5.534716}]   |\n",
            "|101   |[{2426, 10.068549}, {2964, 9.384987}, {2219, 9.091974}, {2157, 8.580289}, {2129, 8.555402}, {2930, 8.447791}, {1930, 8.425892}, {751, 8.318695}, {2323, 8.029162}, {970, 8.015895}]      |\n",
            "+------+-----------------------------------------------------------------------------------------------------------------------------------------------------------------------------------------+\n",
            "only showing top 20 rows\n",
            "\n"
          ]
        }
      ],
      "source": [
        "lines = spark.read.text(\"/content/ml-1m/ratings.dat\").rdd\n",
        "parts = lines.map(lambda row: row.value.split(\"::\"))\n",
        "ratingsRDD = parts.map(lambda p: Row(userId = int(p[0]), movieId = int(p[1]),\n",
        "                                     rating = float(p[2])))\n",
        "ratings = spark.createDataFrame(ratingsRDD)\n",
        "(training, test) = ratings.randomSplit([0.8, 0.2])\n",
        "#(training, test) = spark_random_split(ratings, ratio = 0.8, seed = 42)\n",
        "\n",
        "\n",
        "# Build the recommendation model using ALS on the training data\n",
        "# Note we set cold start strategy to 'drop' to ensure we don't get NaN evaluation metrics\n",
        "als = ALS(maxIter = 10, regParam = 0.01, userCol = \"userId\", itemCol = \"movieId\", ratingCol = \"rating\",\n",
        "          coldStartStrategy = \"drop\")\n",
        "model = als.fit(training)\n",
        "\n",
        "# Evaluate the model by computing the RMSE on the test data\n",
        "predictions = model.transform(test)\n",
        "evaluator = RegressionEvaluator(metricName = \"rmse\", labelCol = \"rating\",\n",
        "                                predictionCol = \"prediction\")\n",
        "rmse = evaluator.evaluate(predictions)\n",
        "print(\"Root-mean-square error = \" + str(rmse))\n",
        "\n",
        "# Generate top 10 movie recommendations for each user\n",
        "userRecs = model.recommendForAllUsers(10)\n",
        "userRecs.show(truncate=False)"
      ]
    },
    {
      "cell_type": "markdown",
      "metadata": {
        "id": "by21Q29rXNN1"
      },
      "source": [
        "## NDCG Metric"
      ]
    },
    {
      "cell_type": "code",
      "execution_count": null,
      "metadata": {
        "id": "oAoTFDHmSClV"
      },
      "outputs": [],
      "source": [
        "from recommenders.evaluation.spark_evaluation import SparkRankingEvaluation"
      ]
    },
    {
      "cell_type": "code",
      "execution_count": null,
      "metadata": {
        "id": "Ty7VExF6W2yL",
        "colab": {
          "base_uri": "https://localhost:8080/"
        },
        "outputId": "c78f6688-104a-4792-ecc5-3be1b67594c6"
      },
      "outputs": [
        {
          "output_type": "stream",
          "name": "stderr",
          "text": [
            "/content/spark-3.2.1-bin-hadoop3.2/python/pyspark/sql/context.py:127: FutureWarning: Deprecated in 3.0.0. Use SparkSession.builder.getOrCreate() instead.\n",
            "  FutureWarning\n"
          ]
        }
      ],
      "source": [
        "rank_eval = SparkRankingEvaluation(test, predictions, k = 10, col_user=\"userId\", col_item=\"movieId\", \n",
        "                                    col_rating=\"rating\", col_prediction=\"prediction\",\n",
        "                                    relevancy_method=\"top_k\")"
      ]
    },
    {
      "cell_type": "code",
      "execution_count": null,
      "metadata": {
        "id": "HNFl_7F7XBZX",
        "colab": {
          "base_uri": "https://localhost:8080/"
        },
        "outputId": "0869bebd-7293-41f3-c656-fb8684d08633"
      },
      "outputs": [
        {
          "output_type": "stream",
          "name": "stdout",
          "text": [
            "NDCG: 0.999957168271\n"
          ]
        }
      ],
      "source": [
        "print(\"NDCG:\", round(rank_eval.ndcg_at_k(), 12) )"
      ]
    },
    {
      "cell_type": "markdown",
      "metadata": {
        "id": "HhN7R2uAkCxI"
      },
      "source": [
        "## Hit Rate Metric\n"
      ]
    },
    {
      "cell_type": "code",
      "execution_count": null,
      "metadata": {
        "id": "eBiWmfP_Pl15"
      },
      "outputs": [],
      "source": [
        "import pandas as pd\n",
        "from surprise.model_selection import train_test_split\n",
        "from surprise.model_selection import LeaveOneOut\n",
        "from surprise import Reader\n",
        "from surprise import Dataset\n",
        "from surprise import accuracy\n",
        "\n",
        "from collections import defaultdict"
      ]
    },
    {
      "cell_type": "code",
      "execution_count": null,
      "metadata": {
        "id": "CEiSTs88MV-R"
      },
      "outputs": [],
      "source": [
        "#convert spark DF to pandas DF\n",
        "ratings_HitRate = ratings.toPandas()\n",
        "\n",
        "# pandas DF to Dataset Surprise\n",
        "reader = Reader(rating_scale=(1, 5))\n",
        "data = Dataset.load_from_df(ratings_HitRate[['userId', 'movieId', 'rating']], reader)"
      ]
    },
    {
      "cell_type": "markdown",
      "metadata": {
        "id": "uKeM0XJHCNIJ"
      },
      "source": [
        "### ALS in Spark and applying LOOCV for data train"
      ]
    },
    {
      "cell_type": "code",
      "execution_count": null,
      "metadata": {
        "id": "L3hLKuFSij5W"
      },
      "outputs": [],
      "source": [
        "HR_ALS_spark = ALS(maxIter=10, regParam=0.01, userCol=\"userId\", itemCol=\"movieId\", ratingCol=\"rating\", coldStartStrategy=\"drop\")\n",
        "LOOCV = LeaveOneOut(n_splits=1, random_state=1)\n",
        "\n",
        "for trainSet, testSet in LOOCV.split(data):\n",
        "  #Train model\n",
        "  newTrainSet = spark.createDataFrame(trainSet.build_testset()).selectExpr(\"_1 as userId\", \"_2 as movieId\", \"_3 as rating\")\n",
        "  model = HR_ALS_spark.fit(newTrainSet)\n",
        "  #Predict\n",
        "  newTestSet = spark.createDataFrame(testSet).selectExpr(\"_1 as userId\", \"_2 as movieId\", \"_3 as rating\")\n",
        "  leftOutPredictions = model.transform(newTestSet).collect()\n",
        "  #Build prediction for all rating\n",
        "  bigTestSet = trainSet.build_anti_testset(0)\n",
        "  newBigTestSet = spark.createDataFrame(bigTestSet).selectExpr(\"_1 as userId\", \"_2 as movieId\", \"_3 as rating\")\n",
        "  allPredictions = model.transform(newBigTestSet)"
      ]
    },
    {
      "cell_type": "code",
      "execution_count": null,
      "metadata": {
        "id": "77Eg1q4W6yrC",
        "colab": {
          "base_uri": "https://localhost:8080/"
        },
        "outputId": "84279093-7765-465b-d674-8a30c1ec493d"
      },
      "outputs": [
        {
          "output_type": "stream",
          "name": "stderr",
          "text": [
            "----------------------------------------\n",
            "Exception happened during processing of request from ('127.0.0.1', 38256)\n"
          ]
        }
      ],
      "source": [
        "list_allPredictions = allPredictions.collect()"
      ]
    },
    {
      "cell_type": "markdown",
      "metadata": {
        "id": "dEUguyJvCw4B"
      },
      "source": [
        "### GET TOP N"
      ]
    },
    {
      "cell_type": "code",
      "execution_count": null,
      "metadata": {
        "id": "mDQdOpk2AoF8"
      },
      "outputs": [],
      "source": [
        "def GetTopN(predictions, n=10, minimumRating=4.0):\n",
        "    topN = defaultdict(list)\n",
        "\n",
        "    for userID, movieID, actualRating, estimatedRating in predictions:\n",
        "        if (estimatedRating >= minimumRating):\n",
        "            topN[int(userID)].append((int(movieID), estimatedRating))\n",
        "\n",
        "    for userID, ratings in topN.items():\n",
        "        ratings.sort(key=lambda x: x[1], reverse=True)\n",
        "        topN[int(userID)] = ratings[:n]\n",
        "\n",
        "    return topN"
      ]
    },
    {
      "cell_type": "code",
      "execution_count": null,
      "metadata": {
        "id": "jDP1AupWC1J7"
      },
      "outputs": [],
      "source": [
        "#compute top 10 recom\n",
        "topNPredicted = GetTopN(list_allPredictions, n=10)"
      ]
    },
    {
      "cell_type": "markdown",
      "metadata": {
        "id": "QLIbcP0QI6T1"
      },
      "source": [
        "### Calculate hit rate"
      ]
    },
    {
      "cell_type": "code",
      "execution_count": null,
      "metadata": {
        "id": "EXr3uaGWUWp7"
      },
      "outputs": [],
      "source": [
        "def hit_rate(topNPredicted, leftOutPred):\n",
        "    hits = 0\n",
        "    total = 0\n",
        "\n",
        " # For each left-out rating\n",
        "    for leftOut in leftOutPred:\n",
        "        userID = leftOut[0]\n",
        "        leftOutMovieID = leftOut[1]\n",
        "        # Is it in the predicted top 10 for this user?\n",
        "        hit = False\n",
        "        for movieID, predictedRating in topNPredicted[int(userID)]:\n",
        "            if (int(leftOutMovieID) == int(movieID)):\n",
        "                hit = True\n",
        "                break\n",
        "        if (hit) :\n",
        "            hits += 1\n",
        "\n",
        "        total += 1\n",
        "\n",
        "    # Compute overall precision\n",
        "    return hits/total"
      ]
    },
    {
      "cell_type": "code",
      "execution_count": null,
      "metadata": {
        "id": "3R1kVxi758Kr",
        "colab": {
          "base_uri": "https://localhost:8080/"
        },
        "outputId": "3cc50262-9f96-4566-a9f4-5db34cb45c2e"
      },
      "outputs": [
        {
          "output_type": "stream",
          "name": "stdout",
          "text": [
            "Hit rate:  0.0\n"
          ]
        }
      ],
      "source": [
        "print(\"Hit rate: \", round(hit_rate(topNPredicted, leftOutPredictions), 12))"
      ]
    }
  ],
  "metadata": {
    "colab": {
      "collapsed_sections": [],
      "name": "Project1_RecommenderSystem_MovieLens.ipynb",
      "provenance": []
    },
    "kernelspec": {
      "display_name": "Python 3",
      "name": "python3"
    },
    "language_info": {
      "name": "python"
    }
  },
  "nbformat": 4,
  "nbformat_minor": 0
}